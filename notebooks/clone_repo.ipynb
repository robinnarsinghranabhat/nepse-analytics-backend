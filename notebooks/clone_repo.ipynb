{
 "cells": [
  {
   "cell_type": "code",
   "execution_count": 2,
   "metadata": {},
   "outputs": [
    {
     "name": "stderr",
     "output_type": "stream",
     "text": [
      "DEBUG:root:test\n"
     ]
    }
   ],
   "source": [
    "import pandas as pd\n",
    "import os\n",
    "import git\n",
    "\n",
    "import logging\n",
    "logger = logging.getLogger()\n",
    "logger.setLevel(logging.DEBUG)\n",
    "logging.debug(\"test\")"
   ]
  },
  {
   "cell_type": "code",
   "execution_count": 7,
   "metadata": {},
   "outputs": [
    {
     "name": "stderr",
     "output_type": "stream",
     "text": [
      "INFO:root:Repo Exists. Pulling latest changes.\n",
      "DEBUG:git.cmd:Popen(['git', 'pull', '-v', '--', 'origin'], cwd=/Users/robinakan/projects/nepse-analytics-backend/dependency/floorsheet_repo, stdin=None, shell=False, universal_newlines=False)\n"
     ]
    }
   ],
   "source": [
    "REPO_URL = 'https://github.com/robinnarsinghranabhat/nepse-floorsheet-daily-scrape.git'  # Replace with the actual repo URL\n",
    "LOCAL_REPO_PATH = '/Users/robinakan/projects/nepse-analytics-backend/dependency/floorsheet_repo'\n",
    "\n",
    "# def clone_or_pull_repo():\n",
    "if not os.path.exists(LOCAL_REPO_PATH):\n",
    "    logging.info(\"Cloning Repo\")\n",
    "    os.makedirs(LOCAL_REPO_PATH)\n",
    "    fs_repo = git.Repo.clone_from(REPO_URL, LOCAL_REPO_PATH)\n",
    "else:\n",
    "    logging.info(\"Repo Exists. Pulling latest changes.\")\n",
    "    repo = git.Repo(LOCAL_REPO_PATH)\n",
    "    origin = repo.remotes.origin\n",
    "    out = origin.pull()\n",
    "\n",
    "\n",
    "# clone_or_pull_repo()"
   ]
  },
  {
   "cell_type": "code",
   "execution_count": 13,
   "metadata": {},
   "outputs": [
    {
     "data": {
      "text/plain": [
       "128"
      ]
     },
     "execution_count": 13,
     "metadata": {},
     "output_type": "execute_result"
    }
   ],
   "source": []
  },
  {
   "cell_type": "code",
   "execution_count": null,
   "metadata": {},
   "outputs": [],
   "source": []
  }
 ],
 "metadata": {
  "kernelspec": {
   "display_name": ".venv",
   "language": "python",
   "name": "python3"
  },
  "language_info": {
   "codemirror_mode": {
    "name": "ipython",
    "version": 3
   },
   "file_extension": ".py",
   "mimetype": "text/x-python",
   "name": "python",
   "nbconvert_exporter": "python",
   "pygments_lexer": "ipython3",
   "version": "3.9.6"
  }
 },
 "nbformat": 4,
 "nbformat_minor": 2
}
